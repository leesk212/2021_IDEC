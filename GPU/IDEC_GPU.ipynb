{
  "nbformat": 4,
  "nbformat_minor": 0,
  "metadata": {
    "colab": {
      "name": "IDEC_GPU.ipynb",
      "provenance": [],
      "collapsed_sections": [],
      "authorship_tag": "ABX9TyMpYgFwWxHIONa12ggA8nXo",
      "include_colab_link": true
    },
    "kernelspec": {
      "name": "python3",
      "display_name": "Python 3"
    },
    "accelerator": "GPU"
  },
  "cells": [
    {
      "cell_type": "markdown",
      "metadata": {
        "id": "view-in-github",
        "colab_type": "text"
      },
      "source": [
        "<a href=\"https://colab.research.google.com/github/leesk212/2021_IDEC/blob/main/IDEC_GPU.ipynb\" target=\"_parent\"><img src=\"https://colab.research.google.com/assets/colab-badge.svg\" alt=\"Open In Colab\"/></a>"
      ]
    },
    {
      "cell_type": "code",
      "metadata": {
        "id": "dirEX4ML5BA9"
      },
      "source": [
        "!apt-get --purge -y remove 'cuda*'\r\n",
        "!apt-get --purge -y remove 'nvidia'\r\n",
        "!apt autoremove -y\r\n",
        "!apt-get clean\r\n",
        "!apt update -qq;\r\n",
        "!wget https://developer.download.nvidia.com/compute/cuda/repos/ubuntu1804/x86_64/cuda-repo-ubuntu1804_10.1.168-1_amd64.deb;\r\n",
        "!dpkg -i cuda-repo-ubuntu1804_10.1.168-1_amd64.deb;\r\n",
        "!apt-key adv --fetch-keys https://developer.download.nvidia.com/compute/cuda/repos/ubuntu1804/x86_64/7fa2af80.pub;\r\n",
        "!dpkg -i cuda-repo-ubuntu1804_10.1.168-1_amd64.deb;\r\n",
        "!apt-key adv --fetch-keys https://developer.download.nvidia.com/compute/cuda/repos/ubuntu1804/x86_64/7fa2af80.pub;\r\n",
        "!apt-get update -qq;\r\n",
        "!apt-get install cuda gcc-5 g++-5 -y -qq;\r\n",
        "!ln -s /usr/bin/gcc-5 /usr/local/cuda/bin/gcc;\r\n",
        "!ln -s /usr/bin/g++-5 /usr/local/cuda/bin/g++;\r\n",
        "!apt install cuda-10-1=10.1.168-1;"
      ],
      "execution_count": null,
      "outputs": []
    },
    {
      "cell_type": "code",
      "metadata": {
        "id": "xw725Ks56rYL"
      },
      "source": [
        "!apt autoremove -y\r\n",
        "!apt-get clean"
      ],
      "execution_count": null,
      "outputs": []
    },
    {
      "cell_type": "code",
      "metadata": {
        "id": "8tt7qsKsBA0u"
      },
      "source": [
        "!apt update -qq;"
      ],
      "execution_count": null,
      "outputs": []
    },
    {
      "cell_type": "code",
      "metadata": {
        "id": "EGhx1J1TBG9K"
      },
      "source": [
        "!wget https://developer.download.nvidia.com/compute/cuda/repos/ubuntu1804/x86_64/cuda-repo-ubuntu1804_10.1.168-1_amd64.deb;"
      ],
      "execution_count": null,
      "outputs": []
    },
    {
      "cell_type": "code",
      "metadata": {
        "id": "cTUTwAXvBbe0"
      },
      "source": [
        "!dpkg -i cuda-repo-ubuntu1804_10.1.168-1_amd64.deb;"
      ],
      "execution_count": null,
      "outputs": []
    },
    {
      "cell_type": "code",
      "metadata": {
        "id": "ncKYTKutBixb"
      },
      "source": [
        "!apt-key adv --fetch-keys https://developer.download.nvidia.com/compute/cuda/repos/ubuntu1804/x86_64/7fa2af80.pub;"
      ],
      "execution_count": null,
      "outputs": []
    },
    {
      "cell_type": "code",
      "metadata": {
        "id": "Ctipfk_aBvWG"
      },
      "source": [
        "!apt-get update -qq;"
      ],
      "execution_count": null,
      "outputs": []
    },
    {
      "cell_type": "code",
      "metadata": {
        "id": "pH_si9WrB8JM"
      },
      "source": [
        "!apt-get install cuda gcc-5 g++-5 -y -qq;"
      ],
      "execution_count": null,
      "outputs": []
    },
    {
      "cell_type": "code",
      "metadata": {
        "id": "N9vlDx_LCFX0"
      },
      "source": [
        "!ln -s /usr/bin/gcc-5 /usr/local/cuda/bin/gcc;\r\n",
        "!ln -s /usr/bin/g++-5 /usr/local/cuda/bin/g++;"
      ],
      "execution_count": null,
      "outputs": []
    },
    {
      "cell_type": "code",
      "metadata": {
        "id": "s_9HSdHCCWOV"
      },
      "source": [
        "!apt install cuda-10-1=10.1.168-1;"
      ],
      "execution_count": null,
      "outputs": []
    },
    {
      "cell_type": "code",
      "metadata": {
        "colab": {
          "base_uri": "https://localhost:8080/"
        },
        "id": "kCUm9dX6DHOZ",
        "outputId": "03a4efed-d7a7-411c-bfd0-1df1eaa1f188"
      },
      "source": [
        "!/usr/local/cuda/bin/nvcc --version"
      ],
      "execution_count": 1,
      "outputs": [
        {
          "output_type": "stream",
          "text": [
            "nvcc: NVIDIA (R) Cuda compiler driver\n",
            "Copyright (c) 2005-2019 NVIDIA Corporation\n",
            "Built on Sun_Jul_28_19:07:16_PDT_2019\n",
            "Cuda compilation tools, release 10.1, V10.1.243\n"
          ],
          "name": "stdout"
        }
      ]
    },
    {
      "cell_type": "code",
      "metadata": {
        "colab": {
          "base_uri": "https://localhost:8080/"
        },
        "id": "tlEuwpNDDMB9",
        "outputId": "5abd94f5-89d6-4613-d33d-728f22fb37af"
      },
      "source": [
        "!pip install git+git://github.com/andreinechaev/nvcc4jupyter.git"
      ],
      "execution_count": 2,
      "outputs": [
        {
          "output_type": "stream",
          "text": [
            "Collecting git+git://github.com/andreinechaev/nvcc4jupyter.git\n",
            "  Cloning git://github.com/andreinechaev/nvcc4jupyter.git to /tmp/pip-req-build-tgt9h5ux\n",
            "  Running command git clone -q git://github.com/andreinechaev/nvcc4jupyter.git /tmp/pip-req-build-tgt9h5ux\n",
            "Building wheels for collected packages: NVCCPlugin\n",
            "  Building wheel for NVCCPlugin (setup.py) ... \u001b[?25l\u001b[?25hdone\n",
            "  Created wheel for NVCCPlugin: filename=NVCCPlugin-0.0.2-cp36-none-any.whl size=4308 sha256=09438a7e5478d044cd9529e4137a1aa95468fdf8318a81759ca850c00406fae3\n",
            "  Stored in directory: /tmp/pip-ephem-wheel-cache-ficmno17/wheels/10/c2/05/ca241da37bff77d60d31a9174f988109c61ba989e4d4650516\n",
            "Successfully built NVCCPlugin\n",
            "Installing collected packages: NVCCPlugin\n",
            "Successfully installed NVCCPlugin-0.0.2\n"
          ],
          "name": "stdout"
        }
      ]
    },
    {
      "cell_type": "code",
      "metadata": {
        "colab": {
          "base_uri": "https://localhost:8080/"
        },
        "id": "uL4mPOmUDUjd",
        "outputId": "b74bce59-27d8-4bc0-f311-d59564af6a33"
      },
      "source": [
        "%load_ext nvcc_plugin"
      ],
      "execution_count": 13,
      "outputs": [
        {
          "output_type": "stream",
          "text": [
            "The nvcc_plugin extension is already loaded. To reload it, use:\n",
            "  %reload_ext nvcc_plugin\n"
          ],
          "name": "stdout"
        }
      ]
    },
    {
      "cell_type": "code",
      "metadata": {
        "colab": {
          "base_uri": "https://localhost:8080/"
        },
        "id": "PCW9dxQ_DXVh",
        "outputId": "a8d40d56-7bc2-4933-8d0d-63b708312474"
      },
      "source": [
        "%%cu\r\n",
        "\r\n",
        "\r\n",
        "#include <stdio.h>\r\n",
        "__global__ void cuda_hello(){\r\n",
        "    printf(\"Hello World from GPU!\\n\");\r\n",
        "}\r\n",
        "int main() {\r\n",
        "    cuda_hello<<<1,1>>>();\r\n",
        "    cudaDeviceSynchronize();\r\n",
        "    return 0;\r\n",
        "}"
      ],
      "execution_count": 14,
      "outputs": [
        {
          "output_type": "stream",
          "text": [
            "Hello World from GPU!\n",
            "\n"
          ],
          "name": "stdout"
        }
      ]
    },
    {
      "cell_type": "code",
      "metadata": {
        "id": "6OjLhRluFlvp",
        "colab": {
          "base_uri": "https://localhost:8080/"
        },
        "outputId": "62bc83b6-bce4-436d-df00-4d4bb8472341"
      },
      "source": [
        "%%cu\r\n",
        "\r\n",
        "#include <stdio.h>\r\n",
        "\r\n",
        "__global__ void mulKernel(int *c, const int *a, const int *b, const int WIDTH){\r\n",
        "    int x = blockidx\r\n",
        "}\r\n",
        "\r\n",
        "\r\n",
        "int main(){\r\n",
        "    const int WIDTH=5;\r\n",
        "    int a[WIDTH][WIDTH];\r\n",
        "    int b[WIDTH][WIDTH];\r\n",
        "    int c[WIDTH][WIDTH] = {0};\r\n",
        "\r\n",
        "    //Make Matrix\r\n",
        "    for (int y=0; y<WIDTH; y++){\r\n",
        "        for (int x=0; x<WIDTH; x++){\r\n",
        "            a[y][x]=y+x;\r\n",
        "            b[y][x]=y+x;\r\n",
        "        }\r\n",
        "    }\r\n",
        "\r\n",
        "    printf(\"Maxtirx A\\n\");\r\n",
        "    for (int y=0; y<WIDTH; y++){\r\n",
        "        for (int x=0; x<WIDTH; x++){\r\n",
        "            printf(\"%5d\",a[y][x]);\r\n",
        "        }\r\n",
        "        printf(\"\\n\");\r\n",
        "    }\r\n",
        "    printf(\"Maxtirx B\\n\");\r\n",
        "    for (int y=0; y<WIDTH; y++){\r\n",
        "        for (int x=0; x<WIDTH; x++){\r\n",
        "            printf(\"%5d\",b[y][x]);\r\n",
        "        }\r\n",
        "        printf(\"\\n\");\r\n",
        "    }\r\n",
        "\r\n",
        "//    # printf(\"Maxtirx C\\n\");\r\n",
        " //   # for (int y=0; y<WIDTH; y++){\r\n",
        "  //  #     for (int x=0; x<WIDTH; x++){\r\n",
        "  //  #         int sum = 0;\r\n",
        "  //  #         for (int k=0; k<WIDTH; k++){\r\n",
        "  //  #             sum = a[y][k] * b[k][x]\r\n",
        "  //  #         }\r\n",
        "  //  #         c[y][x] = sum;\r\n",
        "  //  #     }\r\n",
        "   // #     printf(\"\\n\");\r\n",
        "     }\r\n",
        "\r\n",
        "//    dim3 DimGrid(GRID_WIDTH.GRID_WIDTH):\r\n",
        "    dim3 DimBlock(WIDTH.WIDTH):\r\n",
        "    mulKerenl<<DimGrid.DimBlock>>>(dev_c,dev_a,dev_b,WIDTH);\r\n",
        "\r\n",
        "\r\n",
        "    printf(\"Maxtirx C\\n\");\r\n",
        "    for (int y=0; y<WIDTH; y++){\r\n",
        "        for (int x=0; x<WIDTH; x++){\r\n",
        "            printf(\"%5d\",c[y][x]);\r\n",
        "        }\r\n",
        "        printf(\"\\n\");\r\n",
        "    }\r\n",
        "\r\n",
        "}\r\n",
        "\r\n",
        "\r\n",
        "\r\n",
        "\r\n",
        "\r\n",
        "\r\n"
      ],
      "execution_count": 11,
      "outputs": [
        {
          "output_type": "stream",
          "text": [
            "/tmp/tmprfcwm91x/e156ae61-5381-4e85-8143-234c23afd8ce.cu(42): error: expected a \";\"\n",
            "\n",
            "1 error detected in the compilation of \"/tmp/tmpxft_000001b8_00000000-8_e156ae61-5381-4e85-8143-234c23afd8ce.cpp1.ii\".\n",
            "\n"
          ],
          "name": "stdout"
        }
      ]
    },
    {
      "cell_type": "code",
      "metadata": {
        "colab": {
          "base_uri": "https://localhost:8080/"
        },
        "id": "z1tbKdDZ1WCH",
        "outputId": "713ebb51-8576-4500-e9c7-fc1b17d508e0"
      },
      "source": [
        "%cd /usr/local/cuda-10.0/samples/1_Utilities/deviceQuery/\n",
        "!make\n",
        "!ls\n",
        "!./deviceQuery"
      ],
      "execution_count": 16,
      "outputs": [
        {
          "output_type": "stream",
          "text": [
            "/usr/local/cuda-10.0/samples/1_Utilities/deviceQuery\n",
            "/usr/local/cuda-10.0/bin/nvcc -ccbin g++ -I../../common/inc  -m64    -gencode arch=compute_30,code=sm_30 -gencode arch=compute_35,code=sm_35 -gencode arch=compute_37,code=sm_37 -gencode arch=compute_50,code=sm_50 -gencode arch=compute_52,code=sm_52 -gencode arch=compute_60,code=sm_60 -gencode arch=compute_61,code=sm_61 -gencode arch=compute_70,code=sm_70 -gencode arch=compute_75,code=sm_75 -gencode arch=compute_75,code=compute_75 -o deviceQuery.o -c deviceQuery.cpp\n",
            "/usr/local/cuda-10.0/bin/nvcc -ccbin g++   -m64      -gencode arch=compute_30,code=sm_30 -gencode arch=compute_35,code=sm_35 -gencode arch=compute_37,code=sm_37 -gencode arch=compute_50,code=sm_50 -gencode arch=compute_52,code=sm_52 -gencode arch=compute_60,code=sm_60 -gencode arch=compute_61,code=sm_61 -gencode arch=compute_70,code=sm_70 -gencode arch=compute_75,code=sm_75 -gencode arch=compute_75,code=compute_75 -o deviceQuery deviceQuery.o \n",
            "mkdir -p ../../bin/x86_64/linux/release\n",
            "cp deviceQuery ../../bin/x86_64/linux/release\n",
            "deviceQuery\t deviceQuery.o\tNsightEclipse.xml\n",
            "deviceQuery.cpp  Makefile\treadme.txt\n",
            "./deviceQuery Starting...\n",
            "\n",
            " CUDA Device Query (Runtime API) version (CUDART static linking)\n",
            "\n",
            "Detected 1 CUDA Capable device(s)\n",
            "\n",
            "Device 0: \"Tesla T4\"\n",
            "  CUDA Driver Version / Runtime Version          10.1 / 10.0\n",
            "  CUDA Capability Major/Minor version number:    7.5\n",
            "  Total amount of global memory:                 15080 MBytes (15812263936 bytes)\n",
            "  (40) Multiprocessors, ( 64) CUDA Cores/MP:     2560 CUDA Cores\n",
            "  GPU Max Clock rate:                            1590 MHz (1.59 GHz)\n",
            "  Memory Clock rate:                             5001 Mhz\n",
            "  Memory Bus Width:                              256-bit\n",
            "  L2 Cache Size:                                 4194304 bytes\n",
            "  Maximum Texture Dimension Size (x,y,z)         1D=(131072), 2D=(131072, 65536), 3D=(16384, 16384, 16384)\n",
            "  Maximum Layered 1D Texture Size, (num) layers  1D=(32768), 2048 layers\n",
            "  Maximum Layered 2D Texture Size, (num) layers  2D=(32768, 32768), 2048 layers\n",
            "  Total amount of constant memory:               65536 bytes\n",
            "  Total amount of shared memory per block:       49152 bytes\n",
            "  Total number of registers available per block: 65536\n",
            "  Warp size:                                     32\n",
            "  Maximum number of threads per multiprocessor:  1024\n",
            "  Maximum number of threads per block:           1024\n",
            "  Max dimension size of a thread block (x,y,z): (1024, 1024, 64)\n",
            "  Max dimension size of a grid size    (x,y,z): (2147483647, 65535, 65535)\n",
            "  Maximum memory pitch:                          2147483647 bytes\n",
            "  Texture alignment:                             512 bytes\n",
            "  Concurrent copy and kernel execution:          Yes with 3 copy engine(s)\n",
            "  Run time limit on kernels:                     No\n",
            "  Integrated GPU sharing Host Memory:            No\n",
            "  Support host page-locked memory mapping:       Yes\n",
            "  Alignment requirement for Surfaces:            Yes\n",
            "  Device has ECC support:                        Enabled\n",
            "  Device supports Unified Addressing (UVA):      Yes\n",
            "  Device supports Compute Preemption:            Yes\n",
            "  Supports Cooperative Kernel Launch:            Yes\n",
            "  Supports MultiDevice Co-op Kernel Launch:      Yes\n",
            "  Device PCI Domain ID / Bus ID / location ID:   0 / 0 / 4\n",
            "  Compute Mode:\n",
            "     < Default (multiple host threads can use ::cudaSetDevice() with device simultaneously) >\n",
            "\n",
            "deviceQuery, CUDA Driver = CUDART, CUDA Driver Version = 10.1, CUDA Runtime Version = 10.0, NumDevs = 1\n",
            "Result = PASS\n"
          ],
          "name": "stdout"
        }
      ]
    }
  ]
}