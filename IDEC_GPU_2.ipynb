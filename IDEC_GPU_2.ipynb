{
  "nbformat": 4,
  "nbformat_minor": 0,
  "metadata": {
    "colab": {
      "name": "IDEC_GPU_2.ipynb",
      "provenance": [],
      "collapsed_sections": [],
      "authorship_tag": "ABX9TyPH7DiaAPCMbC4K60YSHShI",
      "include_colab_link": true
    },
    "kernelspec": {
      "name": "python3",
      "display_name": "Python 3"
    },
    "accelerator": "GPU"
  },
  "cells": [
    {
      "cell_type": "markdown",
      "metadata": {
        "id": "view-in-github",
        "colab_type": "text"
      },
      "source": [
        "<a href=\"https://colab.research.google.com/github/leesk212/2021_IDEC/blob/main/IDEC_GPU_2.ipynb\" target=\"_parent\"><img src=\"https://colab.research.google.com/assets/colab-badge.svg\" alt=\"Open In Colab\"/></a>"
      ]
    },
    {
      "cell_type": "code",
      "metadata": {
        "colab": {
          "base_uri": "https://localhost:8080/"
        },
        "id": "TA2zroclG986",
        "outputId": "3f60e446-4df8-48e4-a827-233380e24cfb"
      },
      "source": [
        "!/usr/local/cuda/bin/nvcc --version\r\n",
        "!pip install git+git://github.com/andreinechaev/nvcc4jupyter.git\r\n",
        "%load_ext nvcc_plugin"
      ],
      "execution_count": null,
      "outputs": [
        {
          "output_type": "stream",
          "text": [
            "nvcc: NVIDIA (R) Cuda compiler driver\n",
            "Copyright (c) 2005-2019 NVIDIA Corporation\n",
            "Built on Sun_Jul_28_19:07:16_PDT_2019\n",
            "Cuda compilation tools, release 10.1, V10.1.243\n",
            "Collecting git+git://github.com/andreinechaev/nvcc4jupyter.git\n",
            "  Cloning git://github.com/andreinechaev/nvcc4jupyter.git to /tmp/pip-req-build-9ry2k1fu\n",
            "  Running command git clone -q git://github.com/andreinechaev/nvcc4jupyter.git /tmp/pip-req-build-9ry2k1fu\n",
            "Building wheels for collected packages: NVCCPlugin\n",
            "  Building wheel for NVCCPlugin (setup.py) ... \u001b[?25l\u001b[?25hdone\n",
            "  Created wheel for NVCCPlugin: filename=NVCCPlugin-0.0.2-cp36-none-any.whl size=4308 sha256=97bcfc860ca565c3fcce7357b19b179c9cdd358918d34f34866d53b9c4fb5684\n",
            "  Stored in directory: /tmp/pip-ephem-wheel-cache-boiw46rs/wheels/10/c2/05/ca241da37bff77d60d31a9174f988109c61ba989e4d4650516\n",
            "Successfully built NVCCPlugin\n",
            "Installing collected packages: NVCCPlugin\n",
            "Successfully installed NVCCPlugin-0.0.2\n",
            "created output directory at /content/src\n",
            "Out bin /content/result.out\n"
          ],
          "name": "stdout"
        }
      ]
    },
    {
      "cell_type": "code",
      "metadata": {
        "colab": {
          "base_uri": "https://localhost:8080/"
        },
        "id": "sY6fku5sHaJU",
        "outputId": "9854787b-7d18-4266-e02f-c9831bbb85fb"
      },
      "source": [
        "%%cu\r\n",
        "\r\n",
        "\r\n",
        "#include <stdio.h>\r\n",
        "__global__ void cuda_hello(){\r\n",
        "    printf(\"Hello World from GPU!\\n\");\r\n",
        "}\r\n",
        "int main() {\r\n",
        "    cuda_hello<<<1,1>>>();\r\n",
        "    cudaDeviceSynchronize();\r\n",
        "    return 0;\r\n",
        "}"
      ],
      "execution_count": null,
      "outputs": [
        {
          "output_type": "stream",
          "text": [
            "Hello World from GPU!\n",
            "\n"
          ],
          "name": "stdout"
        }
      ]
    },
    {
      "cell_type": "code",
      "metadata": {
        "colab": {
          "base_uri": "https://localhost:8080/"
        },
        "id": "egjzZB6qHB8v",
        "outputId": "06df4c7d-16bd-40c7-87be-6542b92519da"
      },
      "source": [
        "%%cu\r\n",
        "\r\n",
        "#include <stdio.h>\r\n",
        "\r\n",
        "__global__ void addKernel(int *c, const int *a, const int *b){\r\n",
        "    int i = threadIdx.x;\r\n",
        "    c[i] = a[i] + b[i];\r\n",
        "}\r\n",
        "\r\n",
        "\r\n",
        "int main(){\r\n",
        "    // Variables in Host\r\n",
        "    const int SIZE = 5;\r\n",
        "    const int a[SIZE] = { 1,2,3,4,5 };\r\n",
        "    const int b[SIZE] = {10,20,30,40,50};\r\n",
        "    int c[SIZE] = {0};\r\n",
        "    int *dev_a = 0;\r\n",
        "    int *dev_b = 0;\r\n",
        "    int *dev_c = 0;\r\n",
        "\r\n",
        "    // Device (GPU) Memory allocation\r\n",
        "\r\n",
        "    cudaMalloc((void**)&dev_c, SIZE * sizeof(int));\r\n",
        "    cudaMalloc((void**)&dev_a, SIZE * sizeof(int)); \r\n",
        "    cudaMalloc((void**)&dev_b, SIZE * sizeof(int));\r\n",
        "\r\n",
        "\r\n",
        "    // Memory copy from Host to Device\r\n",
        "    cudaMemcpy(dev_a, a, SIZE * sizeof(int), cudaMemcpyHostToDevice);\r\n",
        "    cudaMemcpy(dev_b, b, SIZE * sizeof(int), cudaMemcpyHostToDevice);\r\n",
        "\r\n",
        "    // Computation in GPU\r\n",
        "    addKernel<<<1, SIZE>>>(dev_c,dev_a,dev_b);\r\n",
        "\r\n",
        "    // Result data copy from Device to Host\r\n",
        "    cudaMemcpy(c, dev_c, SIZE * sizeof(int), cudaMemcpyHostToDevice);\r\n",
        "\r\n",
        "    printf(\"{1,2,3,4,5}+{10,20,30,40,50} = {%d,%d,%d,%d,%d}\\n\", c[0],c[1],c[2],c[3],c[4]);\r\n",
        "    fflush(stdout);\r\n",
        "    cudaFree(dev_c);\r\n",
        "    cudaFree(dev_a);\r\n",
        "    cudaFree(dev_b);\r\n",
        "    return 0;\r\n",
        "}"
      ],
      "execution_count": null,
      "outputs": [
        {
          "output_type": "stream",
          "text": [
            "{1,2,3,4,5}+{10,20,30,40,50} = {0,0,0,0,0}\n",
            "\n"
          ],
          "name": "stdout"
        }
      ]
    },
    {
      "cell_type": "code",
      "metadata": {
        "colab": {
          "base_uri": "https://localhost:8080/"
        },
        "id": "rIIiTPu6Tk4K",
        "outputId": "4bfc6b01-4239-4df4-c044-caea5c6e3fee"
      },
      "source": [
        "%%cu\r\n",
        "#include <stdio.h>\r\n",
        "\r\n",
        "void addKernel(int *dst,int aVal, int bVal){\r\n",
        "    *dst = aVal + bVal;\r\n",
        "}\r\n",
        "\r\n",
        "int main(){\r\n",
        "    // Variables in Host\r\n",
        "    const int SIZE = 5;\r\n",
        "    const int a[SIZE] = { 1,2,3,4,5 };\r\n",
        "    const int b[SIZE] = {10,20,30,40,50};\r\n",
        "    int c[SIZE] = {0};\r\n",
        "    \r\n",
        "\r\n",
        "    for(int i = 0; i<SIZE; i++){\r\n",
        "        //c[i] = a[i] + b[i];\r\n",
        "        addKernel(&c[i],a[i],b[i]);\r\n",
        "    }\r\n",
        "    printf(\"{1,2,3,4,5}+{10,20,30,40,50} = {%d,%d,%d,%d,%d}\\n\", c[0],c[1],c[2],c[3],c[4]);\r\n",
        "    return 0;\r\n",
        "}"
      ],
      "execution_count": null,
      "outputs": [
        {
          "output_type": "stream",
          "text": [
            "{1,2,3,4,5}+{10,20,30,40,50} = {11,22,33,44,55}\n",
            "\n"
          ],
          "name": "stdout"
        }
      ]
    },
    {
      "cell_type": "code",
      "metadata": {
        "id": "77WjTgTtT03l"
      },
      "source": [
        ""
      ],
      "execution_count": null,
      "outputs": []
    }
  ]
}