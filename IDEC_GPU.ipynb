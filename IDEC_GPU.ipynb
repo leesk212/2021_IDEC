{
  "nbformat": 4,
  "nbformat_minor": 0,
  "metadata": {
    "colab": {
      "name": "IDEC_GPU.ipynb",
      "provenance": [],
      "collapsed_sections": [],
      "authorship_tag": "ABX9TyP8knebMTuOkysO/CWjS7q7",
      "include_colab_link": true
    },
    "kernelspec": {
      "name": "python3",
      "display_name": "Python 3"
    },
    "accelerator": "GPU"
  },
  "cells": [
    {
      "cell_type": "markdown",
      "metadata": {
        "id": "view-in-github",
        "colab_type": "text"
      },
      "source": [
        "<a href=\"https://colab.research.google.com/github/leesk212/2021_IDEC/blob/main/IDEC_GPU.ipynb\" target=\"_parent\"><img src=\"https://colab.research.google.com/assets/colab-badge.svg\" alt=\"Open In Colab\"/></a>"
      ]
    },
    {
      "cell_type": "code",
      "metadata": {
        "colab": {
          "base_uri": "https://localhost:8080/"
        },
        "id": "dirEX4ML5BA9",
        "outputId": "f3b69b18-af54-44f1-f93b-30c4637bf8be"
      },
      "source": [
        "!apt-get --purge -y remove 'cuda*'\r\n",
        "!apt-get --purge -y remove 'nvidia'\r\n",
        "!apt autoremove -y\r\n",
        "!apt-get clean\r\n",
        "!apt update -qq;\r\n",
        "!wget https://developer.download.nvidia.com/compute/cuda/repos/ubuntu1804/x86_64/cuda-repo-ubuntu1804_10.1.168-1_amd64.deb;\r\n",
        "!dpkg -i cuda-repo-ubuntu1804_10.1.168-1_amd64.deb;\r\n",
        "!apt-key adv --fetch-keys https://developer.download.nvidia.com/compute/cuda/repos/ubuntu1804/x86_64/7fa2af80.pub;\r\n",
        "!dpkg -i cuda-repo-ubuntu1804_10.1.168-1_amd64.deb;\r\n",
        "!apt-key adv --fetch-keys https://developer.download.nvidia.com/compute/cuda/repos/ubuntu1804/x86_64/7fa2af80.pub;\r\n",
        "!apt-get update -qq;\r\n",
        "!apt-get install cuda gcc-5 g++-5 -y -qq;\r\n",
        "!ln -s /usr/bin/gcc-5 /usr/local/cuda/bin/gcc;\r\n",
        "!ln -s /usr/bin/g++-5 /usr/local/cuda/bin/g++;\r\n",
        "!apt install cuda-10-1=10.1.168-1;"
      ],
      "execution_count": 27,
      "outputs": [
        {
          "output_type": "stream",
          "text": [
            "Reading package lists... Done\n",
            "Building dependency tree       \n",
            "Reading state information... Done\n",
            "Note, selecting 'cuda-cusparse-cross-qnx-10-0' for glob 'cuda*'\n",
            "Note, selecting 'cuda-nsight-compute-11-0' for glob 'cuda*'\n",
            "Note, selecting 'cuda-nsight-compute-11-1' for glob 'cuda*'\n",
            "Note, selecting 'cuda-nsight-compute-11-2' for glob 'cuda*'\n",
            "Note, selecting 'cuda-nvprof-11-0' for glob 'cuda*'\n",
            "Note, selecting 'cuda-nvprof-11-1' for glob 'cuda*'\n",
            "Note, selecting 'cuda-nvprof-11-2' for glob 'cuda*'\n",
            "Note, selecting 'cuda-npp-cross-qnx-10-0' for glob 'cuda*'\n",
            "Note, selecting 'cuda-nvprune-10-0' for glob 'cuda*'\n",
            "Note, selecting 'cuda-nvprune-10-1' for glob 'cuda*'\n",
            "Note, selecting 'cuda-nvprune-10-2' for glob 'cuda*'\n",
            "Note, selecting 'cuda-nvprune-11-0' for glob 'cuda*'\n",
            "Note, selecting 'cuda-nvprune-11-1' for glob 'cuda*'\n",
            "Note, selecting 'cuda-nvprune-11-2' for glob 'cuda*'\n",
            "Note, selecting 'cuda-nvgraph-10-0' for glob 'cuda*'\n",
            "Note, selecting 'cuda-nvgraph-10-1' for glob 'cuda*'\n",
            "Note, selecting 'cuda-nvgraph-10-2' for glob 'cuda*'\n",
            "Note, selecting 'cuda-cublas-dev-10-0' for glob 'cuda*'\n",
            "Note, selecting 'cuda-drivers-418' for glob 'cuda*'\n",
            "Note, selecting 'cuda-drivers-440' for glob 'cuda*'\n",
            "Note, selecting 'cuda-drivers-450' for glob 'cuda*'\n",
            "Note, selecting 'cuda-drivers-455' for glob 'cuda*'\n",
            "Note, selecting 'cuda-drivers-460' for glob 'cuda*'\n",
            "Note, selecting 'cuda-gdb-10-0' for glob 'cuda*'\n",
            "Note, selecting 'cuda-gdb-10-1' for glob 'cuda*'\n",
            "Note, selecting 'cuda-gdb-10-2' for glob 'cuda*'\n",
            "Note, selecting 'cuda-nsight-compute--10-0' for glob 'cuda*'\n",
            "Note, selecting 'cuda-gdb-11-0' for glob 'cuda*'\n",
            "Note, selecting 'cuda-gdb-11-1' for glob 'cuda*'\n",
            "Note, selecting 'cuda-gdb-11-2' for glob 'cuda*'\n",
            "Note, selecting 'cuda-visual-tools-10-0' for glob 'cuda*'\n",
            "Note, selecting 'cuda-visual-tools-10-1' for glob 'cuda*'\n",
            "Note, selecting 'cuda-visual-tools-10-2' for glob 'cuda*'\n",
            "Note, selecting 'cuda-curand-dev-10-0' for glob 'cuda*'\n",
            "Note, selecting 'cuda-curand-dev-10-1' for glob 'cuda*'\n",
            "Note, selecting 'cuda-curand-dev-10-2' for glob 'cuda*'\n",
            "Note, selecting 'cuda-cupti-10-0' for glob 'cuda*'\n",
            "Note, selecting 'cuda-cupti-10-1' for glob 'cuda*'\n",
            "Note, selecting 'cuda-cupti-10-2' for glob 'cuda*'\n",
            "Note, selecting 'cuda-curand-cross-qnx-10-0' for glob 'cuda*'\n",
            "Note, selecting 'cuda-visual-tools-11-0' for glob 'cuda*'\n",
            "Note, selecting 'cuda-visual-tools-11-1' for glob 'cuda*'\n",
            "Note, selecting 'cuda-visual-tools-11-2' for glob 'cuda*'\n",
            "Note, selecting 'cuda-libraries-dev-10-0' for glob 'cuda*'\n",
            "Note, selecting 'cuda-libraries-dev-10-1' for glob 'cuda*'\n",
            "Note, selecting 'cuda-libraries-dev-10-2' for glob 'cuda*'\n",
            "Note, selecting 'cuda-cublas-cross-qnx-10-0' for glob 'cuda*'\n",
            "Note, selecting 'cuda-cupti-11-0' for glob 'cuda*'\n",
            "Note, selecting 'cuda-cupti-11-1' for glob 'cuda*'\n",
            "Note, selecting 'cuda-cupti-11-2' for glob 'cuda*'\n",
            "Note, selecting 'cuda-drivers-branch' for glob 'cuda*'\n",
            "Note, selecting 'cuda-repo-ubuntu1204' for glob 'cuda*'\n",
            "Note, selecting 'cuda-nvjpeg-10-0' for glob 'cuda*'\n",
            "Note, selecting 'cuda-nvjpeg-10-1' for glob 'cuda*'\n",
            "Note, selecting 'cuda-nvjpeg-10-2' for glob 'cuda*'\n",
            "Note, selecting 'cuda-nvrtc-dev-10-0' for glob 'cuda*'\n",
            "Note, selecting 'cuda-nvrtc-dev-10-1' for glob 'cuda*'\n",
            "Note, selecting 'cuda-nvrtc-dev-10-2' for glob 'cuda*'\n",
            "Note, selecting 'cuda-libraries-dev-11-0' for glob 'cuda*'\n",
            "Note, selecting 'cuda-libraries-dev-11-1' for glob 'cuda*'\n",
            "Note, selecting 'cuda-libraries-dev-11-2' for glob 'cuda*'\n",
            "Note, selecting 'cuda-nvrtc-dev-11-0' for glob 'cuda*'\n",
            "Note, selecting 'cuda-nvrtc-dev-11-1' for glob 'cuda*'\n",
            "Note, selecting 'cuda-nvrtc-dev-11-2' for glob 'cuda*'\n",
            "Note, selecting 'cuda-minimal-build-10-0' for glob 'cuda*'\n",
            "Note, selecting 'cuda-minimal-build-10-1' for glob 'cuda*'\n",
            "Note, selecting 'cuda-minimal-build-10-2' for glob 'cuda*'\n",
            "Note, selecting 'cuda-drivers' for glob 'cuda*'\n",
            "Note, selecting 'cuda-repo-ubuntu1404' for glob 'cuda*'\n",
            "Note, selecting 'cuda-repo-ubuntu1410' for glob 'cuda*'\n",
            "Note, selecting 'cuda-minimal-build-11-0' for glob 'cuda*'\n",
            "Note, selecting 'cuda-minimal-build-11-1' for glob 'cuda*'\n",
            "Note, selecting 'cuda-minimal-build-11-2' for glob 'cuda*'\n",
            "Note, selecting 'cuda-cufft-cross-qnx-10-0' for glob 'cuda*'\n",
            "Note, selecting 'cuda-repo-ubuntu1504' for glob 'cuda*'\n",
            "Note, selecting 'cuda-license-7-5' for glob 'cuda*'\n",
            "Note, selecting 'cuda-cupti-dev-10-2' for glob 'cuda*'\n",
            "Note, selecting 'cuda-libraries-10-0' for glob 'cuda*'\n",
            "Note, selecting 'cuda-libraries-10-1' for glob 'cuda*'\n",
            "Note, selecting 'cuda-libraries-10-2' for glob 'cuda*'\n",
            "Note, selecting 'cuda-runtime-10-0' for glob 'cuda*'\n",
            "Note, selecting 'cuda-runtime-10-1' for glob 'cuda*'\n",
            "Note, selecting 'cuda-runtime-10-2' for glob 'cuda*'\n",
            "Note, selecting 'cuda-cusolver-10-0' for glob 'cuda*'\n",
            "Note, selecting 'cuda-cusolver-10-1' for glob 'cuda*'\n",
            "Note, selecting 'cuda-cusolver-10-2' for glob 'cuda*'\n",
            "Note, selecting 'cuda-cupti-dev-11-0' for glob 'cuda*'\n",
            "Note, selecting 'cuda-cupti-dev-11-1' for glob 'cuda*'\n",
            "Note, selecting 'cuda-cupti-dev-11-2' for glob 'cuda*'\n",
            "Note, selecting 'cuda-libraries-11-0' for glob 'cuda*'\n",
            "Note, selecting 'cuda-libraries-11-1' for glob 'cuda*'\n",
            "Note, selecting 'cuda-libraries-11-2' for glob 'cuda*'\n",
            "Note, selecting 'cuda-repo-ubuntu1804' for glob 'cuda*'\n",
            "Note, selecting 'cuda-runtime-11-0' for glob 'cuda*'\n",
            "Note, selecting 'cuda-runtime-11-1' for glob 'cuda*'\n",
            "Note, selecting 'cuda-runtime-11-2' for glob 'cuda*'\n",
            "Note, selecting 'cuda-drivers-diagnostic' for glob 'cuda*'\n",
            "Note, selecting 'cuda-cusparse-dev-10-0' for glob 'cuda*'\n",
            "Note, selecting 'cuda-cusparse-dev-10-1' for glob 'cuda*'\n",
            "Note, selecting 'cuda-cusparse-dev-10-2' for glob 'cuda*'\n",
            "Note, selecting 'cuda-sanitizer-11-0' for glob 'cuda*'\n",
            "Note, selecting 'cuda-sanitizer-11-1' for glob 'cuda*'\n",
            "Note, selecting 'cuda-sanitizer-11-2' for glob 'cuda*'\n",
            "Note, selecting 'cuda-nvrtc-10-0' for glob 'cuda*'\n",
            "Note, selecting 'cuda-nvrtc-10-1' for glob 'cuda*'\n",
            "Note, selecting 'cuda-nvrtc-10-2' for glob 'cuda*'\n",
            "Note, selecting 'cuda-nvjpeg-dev-10-0' for glob 'cuda*'\n",
            "Note, selecting 'cuda-nvjpeg-dev-10-1' for glob 'cuda*'\n",
            "Note, selecting 'cuda-nvjpeg-dev-10-2' for glob 'cuda*'\n",
            "Note, selecting 'cuda-cufft-10-0' for glob 'cuda*'\n",
            "Note, selecting 'cuda-cufft-10-1' for glob 'cuda*'\n",
            "Note, selecting 'cuda-cufft-10-2' for glob 'cuda*'\n",
            "Note, selecting 'cuda-nsight-systems-10-1' for glob 'cuda*'\n",
            "Note, selecting 'cuda-nsight-systems-10-2' for glob 'cuda*'\n",
            "Note, selecting 'cuda-nvrtc-11-0' for glob 'cuda*'\n",
            "Note, selecting 'cuda-nvrtc-11-1' for glob 'cuda*'\n",
            "Note, selecting 'cuda-nvrtc-11-2' for glob 'cuda*'\n",
            "Note, selecting 'cuda-cusparse-10-0' for glob 'cuda*'\n",
            "Note, selecting 'cuda-cusparse-10-1' for glob 'cuda*'\n",
            "Note, selecting 'cuda-cusparse-10-2' for glob 'cuda*'\n",
            "Note, selecting 'cuda-nsight-systems-11-0' for glob 'cuda*'\n",
            "Note, selecting 'cuda-nsight-systems-11-1' for glob 'cuda*'\n",
            "Note, selecting 'cuda-nsight-systems-11-2' for glob 'cuda*'\n",
            "Note, selecting 'cuda-npp-10-0' for glob 'cuda*'\n",
            "Note, selecting 'cuda-npp-10-1' for glob 'cuda*'\n",
            "Note, selecting 'cuda-npp-10-2' for glob 'cuda*'\n",
            "Note, selecting 'cuda-tools-10-0' for glob 'cuda*'\n",
            "Note, selecting 'cuda-tools-10-1' for glob 'cuda*'\n",
            "Note, selecting 'cuda-tools-10-2' for glob 'cuda*'\n",
            "Note, selecting 'cuda-nvtx-10-0' for glob 'cuda*'\n",
            "Note, selecting 'cuda-nvtx-10-1' for glob 'cuda*'\n",
            "Note, selecting 'cuda-nvtx-10-2' for glob 'cuda*'\n",
            "Note, selecting 'cuda-tools-11-0' for glob 'cuda*'\n",
            "Note, selecting 'cuda-tools-11-1' for glob 'cuda*'\n",
            "Note, selecting 'cuda-tools-11-2' for glob 'cuda*'\n",
            "Note, selecting 'cuda-nvtx-11-0' for glob 'cuda*'\n",
            "Note, selecting 'cuda-nvtx-11-1' for glob 'cuda*'\n",
            "Note, selecting 'cuda-nvtx-11-2' for glob 'cuda*'\n",
            "Note, selecting 'cuda-cudart-10-0' for glob 'cuda*'\n",
            "Note, selecting 'cuda-cudart-10-1' for glob 'cuda*'\n",
            "Note, selecting 'cuda-cudart-10-2' for glob 'cuda*'\n",
            "Note, selecting 'cuda-license-10-0' for glob 'cuda*'\n",
            "Note, selecting 'cuda-license-10-1' for glob 'cuda*'\n",
            "Note, selecting 'cuda-license-10-2' for glob 'cuda*'\n",
            "Note, selecting 'cuda-nvdisasm-10-0' for glob 'cuda*'\n",
            "Note, selecting 'cuda-nvdisasm-10-1' for glob 'cuda*'\n",
            "Note, selecting 'cuda-nvdisasm-10-2' for glob 'cuda*'\n",
            "Note, selecting 'cuda-samples-10-0' for glob 'cuda*'\n",
            "Note, selecting 'cuda-samples-10-1' for glob 'cuda*'\n",
            "Note, selecting 'cuda-samples-10-2' for glob 'cuda*'\n",
            "Note, selecting 'cuda-documentation-10-0' for glob 'cuda*'\n",
            "Note, selecting 'cuda-documentation-10-1' for glob 'cuda*'\n",
            "Note, selecting 'cuda-documentation-10-2' for glob 'cuda*'\n",
            "Note, selecting 'cuda-cusolver-cross-qnx-10-0' for glob 'cuda*'\n",
            "Note, selecting 'cuda-cudart-11-0' for glob 'cuda*'\n",
            "Note, selecting 'cuda-cudart-11-1' for glob 'cuda*'\n",
            "Note, selecting 'cuda-cudart-11-2' for glob 'cuda*'\n",
            "Note, selecting 'cuda-nvdisasm-11-0' for glob 'cuda*'\n",
            "Note, selecting 'cuda-nvdisasm-11-1' for glob 'cuda*'\n",
            "Note, selecting 'cuda-nvdisasm-11-2' for glob 'cuda*'\n",
            "Note, selecting 'cuda-samples-11-0' for glob 'cuda*'\n",
            "Note, selecting 'cuda-samples-11-1' for glob 'cuda*'\n",
            "Note, selecting 'cuda-samples-11-2' for glob 'cuda*'\n",
            "Note, selecting 'cuda-cross-qnx' for glob 'cuda*'\n",
            "Note, selecting 'cuda-documentation-11-0' for glob 'cuda*'\n",
            "Note, selecting 'cuda-documentation-11-1' for glob 'cuda*'\n",
            "Note, selecting 'cuda-documentation-11-2' for glob 'cuda*'\n",
            "Note, selecting 'cuda-compat-10-0' for glob 'cuda*'\n",
            "Note, selecting 'cuda-compat-10-1' for glob 'cuda*'\n",
            "Note, selecting 'cuda-compat-10-2' for glob 'cuda*'\n",
            "Note, selecting 'cuda-compat-11-0' for glob 'cuda*'\n",
            "Note, selecting 'cuda-compat-11-1' for glob 'cuda*'\n",
            "Note, selecting 'cuda-compat-11-2' for glob 'cuda*'\n",
            "Note, selecting 'cuda-nvcc-10-0' for glob 'cuda*'\n",
            "Note, selecting 'cuda-nvcc-10-1' for glob 'cuda*'\n",
            "Note, selecting 'cuda-nvcc-10-2' for glob 'cuda*'\n",
            "Note, selecting 'cuda-repo-ubuntu1404-7-5-local' for glob 'cuda*'\n",
            "Note, selecting 'cuda-nvvp-10-0' for glob 'cuda*'\n",
            "Note, selecting 'cuda-nvvp-10-1' for glob 'cuda*'\n",
            "Note, selecting 'cuda-nvvp-10-2' for glob 'cuda*'\n",
            "Note, selecting 'cuda-cross-qnx-10-0' for glob 'cuda*'\n",
            "Note, selecting 'cuda-nvcc-11-0' for glob 'cuda*'\n",
            "Note, selecting 'cuda-nvcc-11-1' for glob 'cuda*'\n",
            "Note, selecting 'cuda-nvcc-11-2' for glob 'cuda*'\n",
            "Note, selecting 'cuda-nvvp-11-0' for glob 'cuda*'\n",
            "Note, selecting 'cuda-nvvp-11-1' for glob 'cuda*'\n",
            "Note, selecting 'cuda-nvvp-11-2' for glob 'cuda*'\n",
            "Note, selecting 'cuda-toolkit-10-0' for glob 'cuda*'\n",
            "Note, selecting 'cuda-toolkit-10-1' for glob 'cuda*'\n",
            "Note, selecting 'cuda-toolkit-10-2' for glob 'cuda*'\n",
            "Note, selecting 'cuda-nvgraph-dev-10-0' for glob 'cuda*'\n",
            "Note, selecting 'cuda-nvgraph-dev-10-1' for glob 'cuda*'\n",
            "Note, selecting 'cuda-nvgraph-dev-10-2' for glob 'cuda*'\n",
            "Note, selecting 'cuda-cuxxfilt-11-2' for glob 'cuda*'\n",
            "Note, selecting 'cuda-toolkit-11-0' for glob 'cuda*'\n",
            "Note, selecting 'cuda-toolkit-11-1' for glob 'cuda*'\n",
            "Note, selecting 'cuda-toolkit-11-2' for glob 'cuda*'\n",
            "Note, selecting 'cuda-cudart-dev-10-0' for glob 'cuda*'\n",
            "Note, selecting 'cuda-cudart-dev-10-1' for glob 'cuda*'\n",
            "Note, selecting 'cuda-cudart-dev-10-2' for glob 'cuda*'\n",
            "Note, selecting 'cuda-nvml-dev-10-0' for glob 'cuda*'\n",
            "Note, selecting 'cuda-nvml-dev-10-1' for glob 'cuda*'\n",
            "Note, selecting 'cuda-nvml-dev-10-2' for glob 'cuda*'\n",
            "Note, selecting 'cuda-cudart-dev-11-0' for glob 'cuda*'\n",
            "Note, selecting 'cuda-cudart-dev-11-1' for glob 'cuda*'\n",
            "Note, selecting 'cuda-cudart-dev-11-2' for glob 'cuda*'\n",
            "Note, selecting 'cuda-nvml-dev-11-0' for glob 'cuda*'\n",
            "Note, selecting 'cuda-nvml-dev-11-1' for glob 'cuda*'\n",
            "Note, selecting 'cuda-nvml-dev-11-2' for glob 'cuda*'\n",
            "Note, selecting 'cuda-gpu-library-advisor-10-0' for glob 'cuda*'\n",
            "Note, selecting 'cuda-gpu-library-advisor-10-1' for glob 'cuda*'\n",
            "Note, selecting 'cuda-cublas-10-0' for glob 'cuda*'\n",
            "Note, selecting 'cuda-core-10-0' for glob 'cuda*'\n",
            "Note, selecting 'cuda-core-10-1' for glob 'cuda*'\n",
            "Note, selecting 'cuda-core-10-2' for glob 'cuda*'\n",
            "Note, selecting 'cuda-cusolver-dev-10-0' for glob 'cuda*'\n",
            "Note, selecting 'cuda-cusolver-dev-10-1' for glob 'cuda*'\n",
            "Note, selecting 'cuda-cusolver-dev-10-2' for glob 'cuda*'\n",
            "Note, selecting 'cuda-driver-cross-qnx-10-0' for glob 'cuda*'\n",
            "Note, selecting 'cuda-sanitizer-api-10-1' for glob 'cuda*'\n",
            "Note, selecting 'cuda-sanitizer-api-10-2' for glob 'cuda*'\n",
            "Note, selecting 'cuda-compiler-10-0' for glob 'cuda*'\n",
            "Note, selecting 'cuda-compiler-10-1' for glob 'cuda*'\n",
            "Note, selecting 'cuda-compiler-10-2' for glob 'cuda*'\n",
            "Note, selecting 'cuda-demo-suite-10-0' for glob 'cuda*'\n",
            "Note, selecting 'cuda-demo-suite-10-1' for glob 'cuda*'\n",
            "Note, selecting 'cuda-demo-suite-10-2' for glob 'cuda*'\n",
            "Note, selecting 'cuda-npp-dev-10-0' for glob 'cuda*'\n",
            "Note, selecting 'cuda-npp-dev-10-1' for glob 'cuda*'\n",
            "Note, selecting 'cuda-npp-dev-10-2' for glob 'cuda*'\n",
            "Note, selecting 'cuda-compiler-11-0' for glob 'cuda*'\n",
            "Note, selecting 'cuda-compiler-11-1' for glob 'cuda*'\n",
            "Note, selecting 'cuda-compiler-11-2' for glob 'cuda*'\n",
            "Note, selecting 'cuda-demo-suite-11-0' for glob 'cuda*'\n",
            "Note, selecting 'cuda-demo-suite-11-1' for glob 'cuda*'\n",
            "Note, selecting 'cuda-demo-suite-11-2' for glob 'cuda*'\n",
            "Note, selecting 'cuda-nsight-10-0' for glob 'cuda*'\n",
            "Note, selecting 'cuda-nsight-10-1' for glob 'cuda*'\n",
            "Note, selecting 'cuda-nsight-10-2' for glob 'cuda*'\n",
            "Note, selecting 'cuda-curand-10-0' for glob 'cuda*'\n",
            "Note, selecting 'cuda-curand-10-1' for glob 'cuda*'\n",
            "Note, selecting 'cuda-curand-10-2' for glob 'cuda*'\n",
            "Note, selecting 'cuda-command-line-tools-10-0' for glob 'cuda*'\n",
            "Note, selecting 'cuda-command-line-tools-10-1' for glob 'cuda*'\n",
            "Note, selecting 'cuda-command-line-tools-10-2' for glob 'cuda*'\n",
            "Note, selecting 'cuda-cufft-dev-10-0' for glob 'cuda*'\n",
            "Note, selecting 'cuda-cufft-dev-10-1' for glob 'cuda*'\n",
            "Note, selecting 'cuda-cufft-dev-10-2' for glob 'cuda*'\n",
            "Note, selecting 'cuda-drivers-fabricmanager-450' for glob 'cuda*'\n",
            "Note, selecting 'cuda-drivers-fabricmanager-455' for glob 'cuda*'\n",
            "Note, selecting 'cuda-drivers-fabricmanager-460' for glob 'cuda*'\n",
            "Note, selecting 'cuda-nsight-11-0' for glob 'cuda*'\n",
            "Note, selecting 'cuda-nsight-11-1' for glob 'cuda*'\n",
            "Note, selecting 'cuda-nsight-11-2' for glob 'cuda*'\n",
            "Note, selecting 'cuda-driver-dev-10-0' for glob 'cuda*'\n",
            "Note, selecting 'cuda-driver-dev-10-1' for glob 'cuda*'\n",
            "Note, selecting 'cuda-driver-dev-10-2' for glob 'cuda*'\n",
            "Note, selecting 'cuda-repo-ubuntu1504-7-5-local' for glob 'cuda*'\n",
            "Note, selecting 'cuda-10-0' for glob 'cuda*'\n",
            "Note, selecting 'cuda-10-1' for glob 'cuda*'\n",
            "Note, selecting 'cuda-10-2' for glob 'cuda*'\n",
            "Note, selecting 'cuda-command-line-tools-11-0' for glob 'cuda*'\n",
            "Note, selecting 'cuda-command-line-tools-11-1' for glob 'cuda*'\n",
            "Note, selecting 'cuda-command-line-tools-11-2' for glob 'cuda*'\n",
            "Note, selecting 'cuda-drivers-fabricmanager-branch' for glob 'cuda*'\n",
            "Note, selecting 'cuda-driver-dev-11-0' for glob 'cuda*'\n",
            "Note, selecting 'cuda-driver-dev-11-1' for glob 'cuda*'\n",
            "Note, selecting 'cuda-driver-dev-11-2' for glob 'cuda*'\n",
            "Note, selecting 'cuda-misc-headers-cross-qnx-10-0' for glob 'cuda*'\n",
            "Note, selecting 'cuda-11-0' for glob 'cuda*'\n",
            "Note, selecting 'cuda-11-1' for glob 'cuda*'\n",
            "Note, selecting 'cuda-11-2' for glob 'cuda*'\n",
            "Note, selecting 'cuda-drivers-fabricmanager' for glob 'cuda*'\n",
            "Note, selecting 'cuda-memcheck-10-0' for glob 'cuda*'\n",
            "Note, selecting 'cuda-memcheck-10-1' for glob 'cuda*'\n",
            "Note, selecting 'cuda-memcheck-10-2' for glob 'cuda*'\n",
            "Note, selecting 'cuda' for glob 'cuda*'\n",
            "Note, selecting 'cuda-memcheck-11-0' for glob 'cuda*'\n",
            "Note, selecting 'cuda-memcheck-11-1' for glob 'cuda*'\n",
            "Note, selecting 'cuda-memcheck-11-2' for glob 'cuda*'\n",
            "Note, selecting 'cuda-cudart-cross-qnx-10-0' for glob 'cuda*'\n",
            "Note, selecting 'cuda-gdb-src-10-0' for glob 'cuda*'\n",
            "Note, selecting 'cuda-gdb-src-10-1' for glob 'cuda*'\n",
            "Note, selecting 'cuda-gdb-src-10-2' for glob 'cuda*'\n",
            "Note, selecting 'cuda-misc-headers-10-0' for glob 'cuda*'\n",
            "Note, selecting 'cuda-misc-headers-10-1' for glob 'cuda*'\n",
            "Note, selecting 'cuda-misc-headers-10-2' for glob 'cuda*'\n",
            "Note, selecting 'cuda-gdb-src-11-0' for glob 'cuda*'\n",
            "Note, selecting 'cuda-gdb-src-11-1' for glob 'cuda*'\n",
            "Note, selecting 'cuda-gdb-src-11-2' for glob 'cuda*'\n",
            "Note, selecting 'cuda-cuobjdump-10-0' for glob 'cuda*'\n",
            "Note, selecting 'cuda-cuobjdump-10-1' for glob 'cuda*'\n",
            "Note, selecting 'cuda-cuobjdump-10-2' for glob 'cuda*'\n",
            "Note, selecting 'cuda-cuobjdump-11-0' for glob 'cuda*'\n",
            "Note, selecting 'cuda-cuobjdump-11-1' for glob 'cuda*'\n",
            "Note, selecting 'cuda-cuobjdump-11-2' for glob 'cuda*'\n",
            "Note, selecting 'cuda-nsight-compute-10-0' for glob 'cuda*'\n",
            "Note, selecting 'cuda-nsight-compute-10-1' for glob 'cuda*'\n",
            "Note, selecting 'cuda-nsight-compute-10-2' for glob 'cuda*'\n",
            "Note, selecting 'cuda-nvprof-10-0' for glob 'cuda*'\n",
            "Note, selecting 'cuda-nvprof-10-1' for glob 'cuda*'\n",
            "Note, selecting 'cuda-nvprof-10-2' for glob 'cuda*'\n",
            "Package 'cuda-license-7-5' is not installed, so not removed\n",
            "Package 'cuda-repo-ubuntu1204' is not installed, so not removed\n",
            "Package 'cuda-repo-ubuntu1404' is not installed, so not removed\n",
            "Package 'cuda-repo-ubuntu1404-7-5-local' is not installed, so not removed\n",
            "Package 'cuda-repo-ubuntu1410' is not installed, so not removed\n",
            "Package 'cuda-repo-ubuntu1504' is not installed, so not removed\n",
            "Package 'cuda-repo-ubuntu1504-7-5-local' is not installed, so not removed\n",
            "Package 'cuda-cudart-cross-qnx-10-0' is not installed, so not removed\n",
            "Package 'cuda-driver-cross-qnx-10-0' is not installed, so not removed\n",
            "Package 'cuda-misc-headers-cross-qnx-10-0' is not installed, so not removed\n",
            "Package 'cuda-cusolver-cross-qnx-10-0' is not installed, so not removed\n",
            "Package 'cuda-cublas-cross-qnx-10-0' is not installed, so not removed\n",
            "Package 'cuda-cufft-cross-qnx-10-0' is not installed, so not removed\n",
            "Package 'cuda-curand-cross-qnx-10-0' is not installed, so not removed\n",
            "Package 'cuda-cusparse-cross-qnx-10-0' is not installed, so not removed\n",
            "Package 'cuda-npp-cross-qnx-10-0' is not installed, so not removed\n",
            "Package 'cuda-10-2' is not installed, so not removed\n",
            "Package 'cuda-command-line-tools-10-2' is not installed, so not removed\n",
            "Package 'cuda-compat-10-0' is not installed, so not removed\n",
            "Package 'cuda-compiler-10-2' is not installed, so not removed\n",
            "Package 'cuda-core-10-0' is not installed, so not removed\n",
            "Package 'cuda-core-10-1' is not installed, so not removed\n",
            "Package 'cuda-core-10-2' is not installed, so not removed\n",
            "Package 'cuda-cross-qnx-10-0' is not installed, so not removed\n",
            "Package 'cuda-cross-qnx' is not installed, so not removed\n",
            "Package 'cuda-cudart-10-2' is not installed, so not removed\n",
            "Package 'cuda-cudart-dev-10-2' is not installed, so not removed\n",
            "Package 'cuda-cufft-10-2' is not installed, so not removed\n",
            "Package 'cuda-cufft-dev-10-2' is not installed, so not removed\n",
            "Package 'cuda-cuobjdump-10-2' is not installed, so not removed\n",
            "Package 'cuda-cupti-10-2' is not installed, so not removed\n",
            "Package 'cuda-cupti-dev-10-2' is not installed, so not removed\n",
            "Package 'cuda-curand-10-2' is not installed, so not removed\n",
            "Package 'cuda-curand-dev-10-2' is not installed, so not removed\n",
            "Package 'cuda-cusolver-10-2' is not installed, so not removed\n",
            "Package 'cuda-cusolver-dev-10-2' is not installed, so not removed\n",
            "Package 'cuda-cusparse-10-2' is not installed, so not removed\n",
            "Package 'cuda-cusparse-dev-10-2' is not installed, so not removed\n",
            "Package 'cuda-demo-suite-10-2' is not installed, so not removed\n",
            "Package 'cuda-demo-suite-11-0' is not installed, so not removed\n",
            "Package 'cuda-documentation-10-2' is not installed, so not removed\n",
            "Package 'cuda-driver-dev-10-2' is not installed, so not removed\n",
            "Package 'cuda-drivers-diagnostic' is not installed, so not removed\n",
            "Package 'cuda-gdb-10-2' is not installed, so not removed\n",
            "Package 'cuda-gdb-src-10-0' is not installed, so not removed\n",
            "Package 'cuda-gdb-src-10-1' is not installed, so not removed\n",
            "Package 'cuda-gdb-src-10-2' is not installed, so not removed\n",
            "Package 'cuda-libraries-10-2' is not installed, so not removed\n",
            "Package 'cuda-libraries-dev-10-2' is not installed, so not removed\n",
            "Package 'cuda-license-10-2' is not installed, so not removed\n",
            "Package 'cuda-memcheck-10-2' is not installed, so not removed\n",
            "Package 'cuda-minimal-build-10-0' is not installed, so not removed\n",
            "Package 'cuda-minimal-build-10-2' is not installed, so not removed\n",
            "Package 'cuda-misc-headers-10-2' is not installed, so not removed\n",
            "Package 'cuda-npp-10-2' is not installed, so not removed\n",
            "Package 'cuda-npp-dev-10-2' is not installed, so not removed\n",
            "Package 'cuda-nsight-10-2' is not installed, so not removed\n",
            "Package 'cuda-nsight-compute--10-0' is not installed, so not removed\n",
            "Package 'cuda-nsight-compute-10-2' is not installed, so not removed\n",
            "Package 'cuda-nsight-systems-10-2' is not installed, so not removed\n",
            "Package 'cuda-nvcc-10-2' is not installed, so not removed\n",
            "Package 'cuda-nvdisasm-10-2' is not installed, so not removed\n",
            "Package 'cuda-nvgraph-10-2' is not installed, so not removed\n",
            "Package 'cuda-nvgraph-dev-10-2' is not installed, so not removed\n",
            "Package 'cuda-nvjpeg-10-2' is not installed, so not removed\n",
            "Package 'cuda-nvjpeg-dev-10-2' is not installed, so not removed\n",
            "Package 'cuda-nvml-dev-10-2' is not installed, so not removed\n",
            "Package 'cuda-nvml-dev-11-0' is not installed, so not removed\n",
            "Package 'cuda-nvprof-10-2' is not installed, so not removed\n",
            "Package 'cuda-nvprune-10-2' is not installed, so not removed\n",
            "Package 'cuda-nvrtc-10-2' is not installed, so not removed\n",
            "Package 'cuda-nvrtc-dev-10-2' is not installed, so not removed\n",
            "Package 'cuda-nvtx-10-2' is not installed, so not removed\n",
            "Package 'cuda-nvtx-11-0' is not installed, so not removed\n",
            "Package 'cuda-nvvp-10-2' is not installed, so not removed\n",
            "Package 'cuda-runtime-10-2' is not installed, so not removed\n",
            "Package 'cuda-samples-10-2' is not installed, so not removed\n",
            "Package 'cuda-sanitizer-api-10-2' is not installed, so not removed\n",
            "Package 'cuda-toolkit-10-2' is not installed, so not removed\n",
            "Package 'cuda-tools-10-2' is not installed, so not removed\n",
            "Package 'cuda-visual-tools-10-2' is not installed, so not removed\n",
            "Package 'cuda-11-0' is not installed, so not removed\n",
            "Package 'cuda-command-line-tools-11-0' is not installed, so not removed\n",
            "Package 'cuda-compiler-11-0' is not installed, so not removed\n",
            "Package 'cuda-cudart-11-0' is not installed, so not removed\n",
            "Package 'cuda-cudart-dev-11-0' is not installed, so not removed\n",
            "Package 'cuda-cuobjdump-11-0' is not installed, so not removed\n",
            "Package 'cuda-cupti-11-0' is not installed, so not removed\n",
            "Package 'cuda-cupti-dev-11-0' is not installed, so not removed\n",
            "Package 'cuda-documentation-11-0' is not installed, so not removed\n",
            "Package 'cuda-driver-dev-11-0' is not installed, so not removed\n",
            "Package 'cuda-gdb-11-0' is not installed, so not removed\n",
            "Package 'cuda-gdb-src-11-0' is not installed, so not removed\n",
            "Package 'cuda-libraries-11-0' is not installed, so not removed\n",
            "Package 'cuda-libraries-dev-11-0' is not installed, so not removed\n",
            "Package 'cuda-memcheck-11-0' is not installed, so not removed\n",
            "Package 'cuda-minimal-build-11-0' is not installed, so not removed\n",
            "Package 'cuda-nsight-11-0' is not installed, so not removed\n",
            "Package 'cuda-nsight-compute-11-0' is not installed, so not removed\n",
            "Package 'cuda-nsight-systems-11-0' is not installed, so not removed\n",
            "Package 'cuda-nvcc-11-0' is not installed, so not removed\n",
            "Package 'cuda-nvdisasm-11-0' is not installed, so not removed\n",
            "Package 'cuda-nvprof-11-0' is not installed, so not removed\n",
            "Package 'cuda-nvprune-11-0' is not installed, so not removed\n",
            "Package 'cuda-nvrtc-11-0' is not installed, so not removed\n",
            "Package 'cuda-nvrtc-dev-11-0' is not installed, so not removed\n",
            "Package 'cuda-nvvp-11-0' is not installed, so not removed\n",
            "Package 'cuda-runtime-11-0' is not installed, so not removed\n",
            "Package 'cuda-samples-11-0' is not installed, so not removed\n",
            "Package 'cuda-sanitizer-11-0' is not installed, so not removed\n",
            "Package 'cuda-toolkit-11-0' is not installed, so not removed\n",
            "Package 'cuda-tools-11-0' is not installed, so not removed\n",
            "Package 'cuda-visual-tools-11-0' is not installed, so not removed\n",
            "Package 'cuda-cudart-11-1' is not installed, so not removed\n",
            "Package 'cuda-cudart-dev-11-1' is not installed, so not removed\n",
            "Package 'cuda-cuobjdump-11-1' is not installed, so not removed\n",
            "Package 'cuda-demo-suite-11-1' is not installed, so not removed\n",
            "Package 'cuda-driver-dev-11-1' is not installed, so not removed\n",
            "Package 'cuda-nvdisasm-11-1' is not installed, so not removed\n",
            "Package 'cuda-nvml-dev-11-1' is not installed, so not removed\n",
            "Package 'cuda-nvprune-11-1' is not installed, so not removed\n",
            "Package 'cuda-nvtx-11-1' is not installed, so not removed\n",
            "Package 'cuda-compat-10-2' is not installed, so not removed\n",
            "Package 'cuda-drivers-440' is not installed, so not removed\n",
            "Package 'cuda-compat-11-0' is not installed, so not removed\n",
            "Package 'cuda-drivers-418' is not installed, so not removed\n",
            "Package 'cuda-drivers-450' is not installed, so not removed\n",
            "Package 'cuda-drivers-fabricmanager-450' is not installed, so not removed\n",
            "Package 'cuda-11-1' is not installed, so not removed\n",
            "Package 'cuda-command-line-tools-11-1' is not installed, so not removed\n",
            "Package 'cuda-compiler-11-1' is not installed, so not removed\n",
            "Package 'cuda-cupti-11-1' is not installed, so not removed\n",
            "Package 'cuda-cupti-dev-11-1' is not installed, so not removed\n",
            "Package 'cuda-documentation-11-1' is not installed, so not removed\n",
            "Package 'cuda-gdb-11-1' is not installed, so not removed\n",
            "Package 'cuda-gdb-src-11-1' is not installed, so not removed\n",
            "Package 'cuda-libraries-11-1' is not installed, so not removed\n",
            "Package 'cuda-libraries-dev-11-1' is not installed, so not removed\n",
            "Package 'cuda-memcheck-11-1' is not installed, so not removed\n",
            "Package 'cuda-minimal-build-11-1' is not installed, so not removed\n",
            "Package 'cuda-nsight-11-1' is not installed, so not removed\n",
            "Package 'cuda-nsight-compute-11-1' is not installed, so not removed\n",
            "Package 'cuda-nsight-systems-11-1' is not installed, so not removed\n",
            "Package 'cuda-nvcc-11-1' is not installed, so not removed\n",
            "Package 'cuda-nvprof-11-1' is not installed, so not removed\n",
            "Package 'cuda-nvrtc-11-1' is not installed, so not removed\n",
            "Package 'cuda-nvrtc-dev-11-1' is not installed, so not removed\n",
            "Package 'cuda-nvvp-11-1' is not installed, so not removed\n",
            "Package 'cuda-runtime-11-1' is not installed, so not removed\n",
            "Package 'cuda-samples-11-1' is not installed, so not removed\n",
            "Package 'cuda-sanitizer-11-1' is not installed, so not removed\n",
            "Package 'cuda-toolkit-11-1' is not installed, so not removed\n",
            "Package 'cuda-tools-11-1' is not installed, so not removed\n",
            "Package 'cuda-visual-tools-11-1' is not installed, so not removed\n",
            "Package 'cuda-compat-11-1' is not installed, so not removed\n",
            "Package 'cuda-drivers-455' is not installed, so not removed\n",
            "Package 'cuda-drivers-fabricmanager-455' is not installed, so not removed\n",
            "Package 'cuda-compat-11-2' is not installed, so not removed\n",
            "Package 'cuda-drivers-fabricmanager' is not installed, so not removed\n",
            "Package 'cuda-drivers-fabricmanager-460' is not installed, so not removed\n",
            "Package 'cuda-gdb-src-11-2' is not installed, so not removed\n",
            "Package 'cuda-minimal-build-11-2' is not installed, so not removed\n",
            "Some packages could not be installed. This may mean that you have\n",
            "requested an impossible situation or if you are using the unstable\n",
            "distribution that some required packages have not yet been created\n",
            "or been moved out of Incoming.\n",
            "The following information may help to resolve the situation:\n",
            "\n",
            "The following packages have unmet dependencies:\n",
            " libcublas-dev : Depends: cuda-license-10-1 but it is not going to be installed\n",
            " libcublas10 : Depends: cuda-license-10-1 but it is not going to be installed\n",
            "E: Error, pkgProblemResolver::Resolve generated breaks, this may be caused by held packages.\n",
            "Reading package lists... Done\n",
            "Building dependency tree       \n",
            "Reading state information... Done\n",
            "Package 'nvidia' is not installed, so not removed\n",
            "0 upgraded, 0 newly installed, 0 to remove and 41 not upgraded.\n"
          ],
          "name": "stdout"
        }
      ]
    },
    {
      "cell_type": "code",
      "metadata": {
        "colab": {
          "base_uri": "https://localhost:8080/"
        },
        "id": "xw725Ks56rYL",
        "outputId": "a7653e83-c8ad-47e4-8fc5-00e2ad41bd2a"
      },
      "source": [
        "!apt autoremove -y\r\n",
        "!apt-get clean"
      ],
      "execution_count": 28,
      "outputs": [
        {
          "output_type": "stream",
          "text": [
            "Reading package lists... Done\n",
            "Building dependency tree       \n",
            "Reading state information... Done\n",
            "0 upgraded, 0 newly installed, 0 to remove and 41 not upgraded.\n"
          ],
          "name": "stdout"
        }
      ]
    },
    {
      "cell_type": "code",
      "metadata": {
        "colab": {
          "base_uri": "https://localhost:8080/"
        },
        "id": "8tt7qsKsBA0u",
        "outputId": "694dd3ec-fef2-4c7d-b516-70dc5d2a4d8d"
      },
      "source": [
        "!apt update -qq;"
      ],
      "execution_count": 29,
      "outputs": [
        {
          "output_type": "stream",
          "text": [
            "41 packages can be upgraded. Run 'apt list --upgradable' to see them.\n"
          ],
          "name": "stdout"
        }
      ]
    },
    {
      "cell_type": "code",
      "metadata": {
        "colab": {
          "base_uri": "https://localhost:8080/"
        },
        "id": "EGhx1J1TBG9K",
        "outputId": "bac1fa1c-20cd-49a3-9208-e79b6c71b665"
      },
      "source": [
        "!wget https://developer.download.nvidia.com/compute/cuda/repos/ubuntu1804/x86_64/cuda-repo-ubuntu1804_10.1.168-1_amd64.deb;"
      ],
      "execution_count": 30,
      "outputs": [
        {
          "output_type": "stream",
          "text": [
            "--2021-01-11 06:11:42--  https://developer.download.nvidia.com/compute/cuda/repos/ubuntu1804/x86_64/cuda-repo-ubuntu1804_10.1.168-1_amd64.deb\n",
            "Resolving developer.download.nvidia.com (developer.download.nvidia.com)... 152.195.19.142\n",
            "Connecting to developer.download.nvidia.com (developer.download.nvidia.com)|152.195.19.142|:443... connected.\n",
            "HTTP request sent, awaiting response... 200 OK\n",
            "Length: 2936 (2.9K) [application/x-deb]\n",
            "Saving to: ‘cuda-repo-ubuntu1804_10.1.168-1_amd64.deb.1’\n",
            "\n",
            "\r          cuda-repo   0%[                    ]       0  --.-KB/s               \rcuda-repo-ubuntu180 100%[===================>]   2.87K  --.-KB/s    in 0s      \n",
            "\n",
            "2021-01-11 06:11:42 (173 MB/s) - ‘cuda-repo-ubuntu1804_10.1.168-1_amd64.deb.1’ saved [2936/2936]\n",
            "\n"
          ],
          "name": "stdout"
        }
      ]
    },
    {
      "cell_type": "code",
      "metadata": {
        "colab": {
          "base_uri": "https://localhost:8080/"
        },
        "id": "cTUTwAXvBbe0",
        "outputId": "d318126e-7169-41d4-9f50-bb73d8fb814d"
      },
      "source": [
        "!dpkg -i cuda-repo-ubuntu1804_10.1.168-1_amd64.deb;"
      ],
      "execution_count": 31,
      "outputs": [
        {
          "output_type": "stream",
          "text": [
            "(Reading database ... \r(Reading database ... 5%\r(Reading database ... 10%\r(Reading database ... 15%\r(Reading database ... 20%\r(Reading database ... 25%\r(Reading database ... 30%\r(Reading database ... 35%\r(Reading database ... 40%\r(Reading database ... 45%\r(Reading database ... 50%\r(Reading database ... 55%\r(Reading database ... 60%\r(Reading database ... 65%\r(Reading database ... 70%\r(Reading database ... 75%\r(Reading database ... 80%\r(Reading database ... 85%\r(Reading database ... 90%\r(Reading database ... 95%\r(Reading database ... 100%\r(Reading database ... 152096 files and directories currently installed.)\n",
            "Preparing to unpack cuda-repo-ubuntu1804_10.1.168-1_amd64.deb ...\n",
            "Unpacking cuda-repo-ubuntu1804 (10.1.168-1) over (10.1.168-1) ...\n",
            "Setting up cuda-repo-ubuntu1804 (10.1.168-1) ...\n"
          ],
          "name": "stdout"
        }
      ]
    },
    {
      "cell_type": "code",
      "metadata": {
        "colab": {
          "base_uri": "https://localhost:8080/"
        },
        "id": "ncKYTKutBixb",
        "outputId": "3e33171a-9912-48cb-9da8-8fa3ca9b3efd"
      },
      "source": [
        "!apt-key adv --fetch-keys https://developer.download.nvidia.com/compute/cuda/repos/ubuntu1804/x86_64/7fa2af80.pub;"
      ],
      "execution_count": 32,
      "outputs": [
        {
          "output_type": "stream",
          "text": [
            "Executing: /tmp/apt-key-gpghome.K9eZH74TVa/gpg.1.sh --fetch-keys https://developer.download.nvidia.com/compute/cuda/repos/ubuntu1804/x86_64/7fa2af80.pub\n",
            "gpg: requesting key from 'https://developer.download.nvidia.com/compute/cuda/repos/ubuntu1804/x86_64/7fa2af80.pub'\n",
            "gpg: key F60F4B3D7FA2AF80: \"cudatools <cudatools@nvidia.com>\" not changed\n",
            "gpg: Total number processed: 1\n",
            "gpg:              unchanged: 1\n"
          ],
          "name": "stdout"
        }
      ]
    },
    {
      "cell_type": "code",
      "metadata": {
        "id": "Ctipfk_aBvWG"
      },
      "source": [
        "!apt-get update -qq;"
      ],
      "execution_count": 33,
      "outputs": []
    },
    {
      "cell_type": "code",
      "metadata": {
        "id": "pH_si9WrB8JM"
      },
      "source": [
        "!apt-get install cuda gcc-5 g++-5 -y -qq;"
      ],
      "execution_count": 34,
      "outputs": []
    },
    {
      "cell_type": "code",
      "metadata": {
        "colab": {
          "base_uri": "https://localhost:8080/"
        },
        "id": "N9vlDx_LCFX0",
        "outputId": "c001c1b6-1a83-4490-feda-8a052a1bdf60"
      },
      "source": [
        "!ln -s /usr/bin/gcc-5 /usr/local/cuda/bin/gcc;\r\n",
        "!ln -s /usr/bin/g++-5 /usr/local/cuda/bin/g++;"
      ],
      "execution_count": 35,
      "outputs": [
        {
          "output_type": "stream",
          "text": [
            "ln: failed to create symbolic link '/usr/local/cuda/bin/gcc': File exists\n",
            "ln: failed to create symbolic link '/usr/local/cuda/bin/g++': File exists\n"
          ],
          "name": "stdout"
        }
      ]
    },
    {
      "cell_type": "code",
      "metadata": {
        "colab": {
          "base_uri": "https://localhost:8080/"
        },
        "id": "s_9HSdHCCWOV",
        "outputId": "61670131-4d8f-41e5-9b4c-34d1676e5c37"
      },
      "source": [
        "!apt install cuda-10-1=10.1.168-1;"
      ],
      "execution_count": 36,
      "outputs": [
        {
          "output_type": "stream",
          "text": [
            "Reading package lists... Done\n",
            "Building dependency tree       \n",
            "Reading state information... Done\n",
            "cuda-10-1 is already the newest version (10.1.168-1).\n",
            "0 upgraded, 0 newly installed, 0 to remove and 40 not upgraded.\n"
          ],
          "name": "stdout"
        }
      ]
    },
    {
      "cell_type": "code",
      "metadata": {
        "colab": {
          "base_uri": "https://localhost:8080/"
        },
        "id": "kCUm9dX6DHOZ",
        "outputId": "4b87815f-1a7a-412e-8ed1-aed6a3f5b9ba"
      },
      "source": [
        "!/usr/local/cuda/bin/nvcc --version"
      ],
      "execution_count": 37,
      "outputs": [
        {
          "output_type": "stream",
          "text": [
            "nvcc: NVIDIA (R) Cuda compiler driver\n",
            "Copyright (c) 2005-2020 NVIDIA Corporation\n",
            "Built on Mon_Nov_30_19:08:53_PST_2020\n",
            "Cuda compilation tools, release 11.2, V11.2.67\n",
            "Build cuda_11.2.r11.2/compiler.29373293_0\n"
          ],
          "name": "stdout"
        }
      ]
    },
    {
      "cell_type": "code",
      "metadata": {
        "colab": {
          "base_uri": "https://localhost:8080/"
        },
        "id": "tlEuwpNDDMB9",
        "outputId": "98d40ee3-7012-4e25-dc3e-80c7222baf1c"
      },
      "source": [
        "!pip install git+git://github.com/andreinechaev/nvcc4jupyter.git"
      ],
      "execution_count": 38,
      "outputs": [
        {
          "output_type": "stream",
          "text": [
            "Collecting git+git://github.com/andreinechaev/nvcc4jupyter.git\n",
            "  Cloning git://github.com/andreinechaev/nvcc4jupyter.git to /tmp/pip-req-build-jiugolii\n",
            "  Running command git clone -q git://github.com/andreinechaev/nvcc4jupyter.git /tmp/pip-req-build-jiugolii\n",
            "Requirement already satisfied (use --upgrade to upgrade): NVCCPlugin==0.0.2 from git+git://github.com/andreinechaev/nvcc4jupyter.git in /usr/local/lib/python3.6/dist-packages\n",
            "Building wheels for collected packages: NVCCPlugin\n",
            "  Building wheel for NVCCPlugin (setup.py) ... \u001b[?25l\u001b[?25hdone\n",
            "  Created wheel for NVCCPlugin: filename=NVCCPlugin-0.0.2-cp36-none-any.whl size=4308 sha256=1b6a7d640e3ec12a1d3aa4e21869d796cd109782fad7d95952fa871697b611e3\n",
            "  Stored in directory: /tmp/pip-ephem-wheel-cache-2z7sd_51/wheels/10/c2/05/ca241da37bff77d60d31a9174f988109c61ba989e4d4650516\n",
            "Successfully built NVCCPlugin\n"
          ],
          "name": "stdout"
        }
      ]
    },
    {
      "cell_type": "code",
      "metadata": {
        "colab": {
          "base_uri": "https://localhost:8080/"
        },
        "id": "uL4mPOmUDUjd",
        "outputId": "c0378ca8-1fb8-4191-ecfa-2c4d9bb22240"
      },
      "source": [
        "%load_ext nvcc_plugin"
      ],
      "execution_count": 44,
      "outputs": [
        {
          "output_type": "stream",
          "text": [
            "The nvcc_plugin extension is already loaded. To reload it, use:\n",
            "  %reload_ext nvcc_plugin\n"
          ],
          "name": "stdout"
        }
      ]
    },
    {
      "cell_type": "code",
      "metadata": {
        "colab": {
          "base_uri": "https://localhost:8080/"
        },
        "id": "PCW9dxQ_DXVh",
        "outputId": "a2da11b7-3069-4fb4-81bd-5f1de61b367f"
      },
      "source": [
        "%%cu\r\n",
        "\r\n",
        "\r\n",
        "#include <stdio.h>\r\n",
        "__global__ void cuda_hello(){\r\n",
        "    printf(\"Hello World from GPU!\\n\");\r\n",
        "}\r\n",
        "int main() {\r\n",
        "    cuda_hello<<<1,1>>>();\r\n",
        "    cudaDeviceSynchronize();\r\n",
        "    return 0;\r\n",
        "}"
      ],
      "execution_count": 47,
      "outputs": [
        {
          "output_type": "stream",
          "text": [
            "\n"
          ],
          "name": "stdout"
        }
      ]
    },
    {
      "cell_type": "code",
      "metadata": {
        "id": "6OjLhRluFlvp"
      },
      "source": [
        "\r\n"
      ],
      "execution_count": null,
      "outputs": []
    }
  ]
}